{
 "cells": [
  {
   "cell_type": "code",
   "execution_count": null,
   "id": "f69d88c3-ffa5-49e2-8bc8-20fea66a5ebe",
   "metadata": {},
   "outputs": [],
   "source": [
    "#create a dataframe from list\n",
    "column_names = [\"student_id\", \"age\"]\n",
    "result_dataframe = pd.DataFrame(student_data, columns=column_names)"
   ]
  },
  {
   "cell_type": "code",
   "execution_count": null,
   "id": "3248fd4d-9623-4d55-aa7e-3d7008e65a8b",
   "metadata": {},
   "outputs": [],
   "source": [
    "#get size of a dataframe\n",
    "[players.shape[0], players.shape[1]]"
   ]
  },
  {
   "cell_type": "code",
   "execution_count": null,
   "id": "07ef8b4b-325b-4045-bb9c-ba29878f4aeb",
   "metadata": {},
   "outputs": [],
   "source": [
    "#filter by a column\n",
    "students[['name','age']][students['student_id']==101]"
   ]
  },
  {
   "cell_type": "code",
   "execution_count": null,
   "id": "a5f266c7-b9b1-4f77-aed7-8e73270cc5da",
   "metadata": {},
   "outputs": [],
   "source": [
    "#create a new column\n",
    "employees['bonus']=2*employees['salary']"
   ]
  },
  {
   "cell_type": "code",
   "execution_count": null,
   "id": "3e7aaa70-2521-49d6-832a-3240d11ef4ca",
   "metadata": {},
   "outputs": [],
   "source": [
    "#drop duplicate rows\n",
    "#email column has duplicates, remove duplicates and only keep the first occurance\n",
    "customers.drop_duplicates(subset=['email'],keep='first')"
   ]
  },
  {
   "cell_type": "code",
   "execution_count": null,
   "id": "828fbac8-70aa-456b-b92c-25ff64a2ea93",
   "metadata": {},
   "outputs": [],
   "source": [
    "#drop missing data\n",
    "#name column has missing values\n",
    "students=students.dropna(subset=['name'])"
   ]
  },
  {
   "cell_type": "code",
   "execution_count": null,
   "id": "12b76588-4536-479c-aa26-18ffc4f92fcd",
   "metadata": {},
   "outputs": [],
   "source": [
    "#modify columns\n",
    "employees['salary']=employees['salary']*2"
   ]
  },
  {
   "cell_type": "code",
   "execution_count": null,
   "id": "2e86753a-b019-45c1-b414-f71e2edd1f71",
   "metadata": {},
   "outputs": [],
   "source": [
    "#rename columns\n",
    "students=students.rename(columns={'id':'student_id','first':'first_name','last':'last_name','age':'age_in_years'})"
   ]
  },
  {
   "cell_type": "code",
   "execution_count": null,
   "id": "c11cc0c4-a450-4aee-8322-d5dc846b1767",
   "metadata": {},
   "outputs": [],
   "source": [
    "#change data type\n",
    "students = students.astype({'grade': 'int'})"
   ]
  },
  {
   "cell_type": "code",
   "execution_count": null,
   "id": "baef664c-5c4c-45d6-a547-621ed9cfa091",
   "metadata": {},
   "outputs": [],
   "source": [
    "#fill missing data\n",
    "products['quantity']=products['quantity'].fillna(0)"
   ]
  },
  {
   "cell_type": "code",
   "execution_count": null,
   "id": "0ab80aa9-9e8c-40f2-b5e4-3cf3b9de0a48",
   "metadata": {},
   "outputs": [],
   "source": [
    "#reshape - concatnate\n",
    "#keep columns\n",
    "all_df = [df1, df2]\n",
    "final_df = pd.concat(all_df, ignore_index=True)"
   ]
  },
  {
   "cell_type": "code",
   "execution_count": null,
   "id": "bc07fc9a-4816-42d9-8b2e-91c9af480a1a",
   "metadata": {},
   "outputs": [],
   "source": [
    "#reshape - pivot\n",
    "#rows in the same column city to separate columns - column beijing, column shanghai\n",
    "pivoted = weather.pivot(index='month', columns='city', values='temperature')\n",
    "pivoted.columns.name=None"
   ]
  },
  {
   "cell_type": "code",
   "execution_count": null,
   "id": "3b0f23cc-0705-4723-98d3-2aff0ffcd1f1",
   "metadata": {},
   "outputs": [],
   "source": [
    "#reshape - melt\n",
    "#columns to one column - quarter_1 to 4 to a new column quarter\n",
    "report=pd.melt(report, id_vars=['product'], value_vars=['quarter_1','quarter_2','quarter_3','quarter_4'], var_name='quarter', value_name='sales')"
   ]
  },
  {
   "cell_type": "code",
   "execution_count": null,
   "id": "b6ea52fa-6782-4f12-9732-e17618a1f6ec",
   "metadata": {},
   "outputs": [],
   "source": [
    "#method chaining\n",
    "animals[animals['weight']>100].sort_values(by='weight',ascending=False)[['name']]"
   ]
  },
  {
   "cell_type": "code",
   "execution_count": null,
   "id": "3986f6ea-6d26-468b-bf55-a7db2b75af36",
   "metadata": {},
   "outputs": [],
   "source": []
  },
  {
   "cell_type": "code",
   "execution_count": null,
   "id": "32d42398-27f5-40f6-a699-ae0f6cd9e543",
   "metadata": {},
   "outputs": [],
   "source": []
  },
  {
   "cell_type": "code",
   "execution_count": null,
   "id": "7ce112fa-40bc-498c-beed-960150e322c2",
   "metadata": {},
   "outputs": [],
   "source": []
  },
  {
   "cell_type": "code",
   "execution_count": null,
   "id": "08428900-0670-483b-bfff-fd46336da326",
   "metadata": {},
   "outputs": [],
   "source": []
  },
  {
   "cell_type": "code",
   "execution_count": null,
   "id": "54db88b6-293a-4d5f-8cc1-27edc4f0241b",
   "metadata": {},
   "outputs": [],
   "source": []
  },
  {
   "cell_type": "code",
   "execution_count": null,
   "id": "3137bf68-cea0-439b-88af-8c8a9722752e",
   "metadata": {},
   "outputs": [],
   "source": []
  }
 ],
 "metadata": {
  "kernelspec": {
   "display_name": "Python [conda env:base] *",
   "language": "python",
   "name": "conda-base-py"
  },
  "language_info": {
   "codemirror_mode": {
    "name": "ipython",
    "version": 3
   },
   "file_extension": ".py",
   "mimetype": "text/x-python",
   "name": "python",
   "nbconvert_exporter": "python",
   "pygments_lexer": "ipython3",
   "version": "3.12.7"
  }
 },
 "nbformat": 4,
 "nbformat_minor": 5
}
